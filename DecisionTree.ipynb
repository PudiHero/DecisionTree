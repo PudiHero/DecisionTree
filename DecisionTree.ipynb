from sklearn.datasets import load_iris #Toy datasets https://scikit-learn.org/stable/datasets/toy_dataset.html
from sklearn.tree import DecisionTreeClassifier, plot_tree

import matplotlib.pyplot as plt
iris = load_iris() #讀取資料
# iris.data[0] #第一筆資料
# iris.target_names #目標名稱
# iris.feature_names #特徵名稱
clf = DecisionTreeClassifier()
clf.fit(iris.data, iris.target) #訓練(x,y)

fig, ax = plt.subplots(figsize=(30, 20)) #調整圖的大小
plot_tree(clf, ax=ax, feature_names=iris.feature_names, class_names=iris.target_names); #畫圖
